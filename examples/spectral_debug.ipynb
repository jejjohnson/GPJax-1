{
 "cells": [
  {
   "cell_type": "code",
   "execution_count": 2,
   "metadata": {},
   "outputs": [
    {
     "name": "stderr",
     "output_type": "stream",
     "text": [
      "WARNING:absl:No GPU/TPU found, falling back to CPU. (Set TF_CPP_MIN_LOG_LEVEL=0 and rerun for more info.)\n"
     ]
    }
   ],
   "source": [
    "import jax.numpy as jnp\n",
    "import jax.random as jr\n",
    "from gpjax.kernel import RBF\n",
    "from gpjax.parameters import Parameter\n",
    "from gpjax.transforms import Identity\n",
    "from jax.scipy.linalg import solve_triangular\n",
    "\n",
    "key = jr.PRNGKey(123)"
   ]
  },
  {
   "cell_type": "code",
   "execution_count": 3,
   "metadata": {},
   "outputs": [],
   "source": [
    "N = 100\n",
    "M = 20"
   ]
  },
  {
   "cell_type": "code",
   "execution_count": 9,
   "metadata": {},
   "outputs": [],
   "source": [
    "X = jr.uniform(key=key, minval=-3.0, maxval=3.0, shape=(N,)).sort().reshape(-1, 1)\n",
    "y = jnp.sin(X)"
   ]
  },
  {
   "cell_type": "code",
   "execution_count": 37,
   "metadata": {},
   "outputs": [],
   "source": [
    "features = Parameter(jr.normal(key, shape=(20, 1)), transform=Identity())\n",
    "denom = jnp.ones_like(jnp.array([1.0]))"
   ]
  },
  {
   "cell_type": "code",
   "execution_count": 38,
   "metadata": {},
   "outputs": [],
   "source": [
    "omega = features.value / denom"
   ]
  },
  {
   "cell_type": "code",
   "execution_count": 39,
   "metadata": {},
   "outputs": [],
   "source": [
    "assert omega.shape == (M, 1)"
   ]
  },
  {
   "cell_type": "code",
   "execution_count": 40,
   "metadata": {},
   "outputs": [],
   "source": [
    "cos_freqs = jnp.cos(X.dot(omega.T))  # TODO: Can possible do away with the tranpose\n",
    "sin_freqs = jnp.sin(X.dot(omega.T))\n",
    "phi = jnp.hstack((cos_freqs, sin_freqs))"
   ]
  },
  {
   "cell_type": "code",
   "execution_count": 41,
   "metadata": {},
   "outputs": [],
   "source": [
    "assert phi.shape == (N, 2*M)"
   ]
  },
  {
   "cell_type": "code",
   "execution_count": 42,
   "metadata": {},
   "outputs": [],
   "source": [
    "gram = jnp.matmul(phi, phi.T)"
   ]
  },
  {
   "cell_type": "code",
   "execution_count": 43,
   "metadata": {},
   "outputs": [],
   "source": [
    "assert gram.shape == (N, N)"
   ]
  },
  {
   "cell_type": "code",
   "execution_count": 44,
   "metadata": {},
   "outputs": [],
   "source": [
    "l_var = 1.0\n",
    "k_var = 1.0"
   ]
  },
  {
   "cell_type": "code",
   "execution_count": 46,
   "metadata": {},
   "outputs": [],
   "source": [
    "A = (k_var / M) * jnp.matmul(phi.T, phi) + l_var * jnp.eye(M * 2)"
   ]
  },
  {
   "cell_type": "code",
   "execution_count": 48,
   "metadata": {},
   "outputs": [],
   "source": [
    "assert A.shape == (2*M, 2*M)"
   ]
  },
  {
   "cell_type": "code",
   "execution_count": 49,
   "metadata": {},
   "outputs": [],
   "source": [
    "Rt = jnp.linalg.cholesky(A)"
   ]
  },
  {
   "cell_type": "code",
   "execution_count": 52,
   "metadata": {},
   "outputs": [],
   "source": [
    "RtiPhit = solve_triangular(Rt, phi.T)"
   ]
  },
  {
   "cell_type": "code",
   "execution_count": 57,
   "metadata": {},
   "outputs": [],
   "source": [
    "RtiPhity = jnp.matmul(RtiPhit, y.ravel())"
   ]
  },
  {
   "cell_type": "code",
   "execution_count": 60,
   "metadata": {},
   "outputs": [
    {
     "data": {
      "text/plain": [
       "(40,)"
      ]
     },
     "execution_count": 60,
     "metadata": {},
     "output_type": "execute_result"
    }
   ],
   "source": [
    "RtiPhity.shape"
   ]
  },
  {
   "cell_type": "code",
   "execution_count": 62,
   "metadata": {},
   "outputs": [],
   "source": [
    "term1 = (jnp.sum(y**2) - jnp.sum(RtiPhity**2) * k_var / M) * 0.5 / l_var\n",
    "term2 = jnp.sum(jnp.log(jnp.diag(Rt.T))) + (N * 0.5 - M) * jnp.log(l_var) + (N * 0.5 * jnp.log(2 * jnp.pi))\n",
    "tot = term1 + term2"
   ]
  },
  {
   "cell_type": "code",
   "execution_count": 64,
   "metadata": {},
   "outputs": [
    {
     "data": {
      "text/plain": [
       "DeviceArray(-415.56983189, dtype=float64)"
      ]
     },
     "execution_count": 64,
     "metadata": {},
     "output_type": "execute_result"
    }
   ],
   "source": [
    "tot.reshape()"
   ]
  },
  {
   "cell_type": "markdown",
   "metadata": {},
   "source": [
    "# Kernel"
   ]
  },
  {
   "cell_type": "code",
   "execution_count": 4,
   "metadata": {},
   "outputs": [],
   "source": [
    "spectral_density = jr.normal"
   ]
  },
  {
   "cell_type": "code",
   "execution_count": 6,
   "metadata": {},
   "outputs": [],
   "source": [
    "features = spectral_density(key, (M, 1))"
   ]
  },
  {
   "cell_type": "code",
   "execution_count": 8,
   "metadata": {},
   "outputs": [],
   "source": [
    "lengthscales = 1.\n",
    "omega = features/lengthscales"
   ]
  },
  {
   "cell_type": "code",
   "execution_count": 13,
   "metadata": {},
   "outputs": [],
   "source": [
    "cos_freqs = jnp.cos(X.dot(omega.T)) \n",
    "sin_freqs = jnp.sin(X.dot(omega.T))\n",
    "phi = jnp.hstack((cos_freqs, sin_freqs))"
   ]
  },
  {
   "cell_type": "code",
   "execution_count": 15,
   "metadata": {},
   "outputs": [
    {
     "data": {
      "text/plain": [
       "(100, 40)"
      ]
     },
     "execution_count": 15,
     "metadata": {},
     "output_type": "execute_result"
    }
   ],
   "source": [
    "phi.shape"
   ]
  },
  {
   "cell_type": "code",
   "execution_count": 18,
   "metadata": {},
   "outputs": [
    {
     "data": {
      "text/plain": [
       "DeviceArray([[ 1.        ,  0.99977234,  0.97923822, ...,  0.00318022,\n",
       "               0.00375161,  0.00488347],\n",
       "             [ 0.99977234,  1.        ,  0.9832944 , ...,  0.00232103,\n",
       "               0.00290595,  0.00407733],\n",
       "             [ 0.97923822,  0.9832944 ,  1.        , ..., -0.00479182,\n",
       "              -0.00431083, -0.00325729],\n",
       "             ...,\n",
       "             [ 0.00318022,  0.00232103, -0.00479182, ...,  1.        ,\n",
       "               0.99989517,  0.99902319],\n",
       "             [ 0.00375161,  0.00290595, -0.00431083, ...,  0.99989517,\n",
       "               1.        ,  0.9995581 ],\n",
       "             [ 0.00488347,  0.00407733, -0.00325729, ...,  0.99902319,\n",
       "               0.9995581 ,  1.        ]], dtype=float64)"
      ]
     },
     "execution_count": 18,
     "metadata": {},
     "output_type": "execute_result"
    }
   ],
   "source": [
    "(1/M)*jnp.matmul(phi, phi.T)"
   ]
  },
  {
   "cell_type": "code",
   "execution_count": null,
   "metadata": {},
   "outputs": [],
   "source": []
  }
 ],
 "metadata": {
  "kernelspec": {
   "display_name": "gpblocks",
   "language": "python",
   "name": "gpblocks"
  },
  "language_info": {
   "codemirror_mode": {
    "name": "ipython",
    "version": 3
   },
   "file_extension": ".py",
   "mimetype": "text/x-python",
   "name": "python",
   "nbconvert_exporter": "python",
   "pygments_lexer": "ipython3",
   "version": "3.8.5"
  }
 },
 "nbformat": 4,
 "nbformat_minor": 4
}
